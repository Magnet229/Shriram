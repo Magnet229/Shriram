{
  "nbformat": 4,
  "nbformat_minor": 0,
  "metadata": {
    "colab": {
      "provenance": [],
      "authorship_tag": "ABX9TyNVRXRbS43deySAz6Vly71I",
      "include_colab_link": true
    },
    "kernelspec": {
      "name": "python3",
      "display_name": "Python 3"
    },
    "language_info": {
      "name": "python"
    }
  },
  "cells": [
    {
      "cell_type": "markdown",
      "metadata": {
        "id": "view-in-github",
        "colab_type": "text"
      },
      "source": [
        "<a href=\"https://colab.research.google.com/github/Magnet229/Shriram/blob/main/python%20assignment.ipynb\" target=\"_parent\"><img src=\"https://colab.research.google.com/assets/colab-badge.svg\" alt=\"Open In Colab\"/></a>"
      ]
    },
    {
      "cell_type": "code",
      "execution_count": 2,
      "metadata": {
        "colab": {
          "base_uri": "https://localhost:8080/"
        },
        "id": "O3hc3BWU5o-i",
        "outputId": "b7180536-e2d7-4ff0-8bfc-761465ed16e9"
      },
      "outputs": [
        {
          "output_type": "stream",
          "name": "stdout",
          "text": [
            "Invalid mileage '32.13'\n"
          ]
        }
      ],
      "source": [
        "class ValidationException(Exception):\n",
        "    pass\n",
        "\n",
        "\n",
        "def validate_file(filename):\n",
        "    try:\n",
        "        with open(filename, \"r\") as file:\n",
        "            lines = file.readlines()\n",
        "\n",
        "            # Skip header\n",
        "            for line_number, line in enumerate(lines[1:], start=2):\n",
        "                line = line.strip()\n",
        "\n",
        "                # Skip empty lines\n",
        "                if not line:\n",
        "                    continue\n",
        "\n",
        "                parts = [x.strip() for x in line.split(\",\")]\n",
        "                if len(parts) != 2:\n",
        "                    raise ValidationException(f\"Invalid format on line {line_number}: {line}\")\n",
        "\n",
        "                car_id, miles = parts\n",
        "\n",
        "                # Validate mileage\n",
        "                if not miles.isdigit():\n",
        "                    raise ValidationException(\n",
        "                        f\"Invalid mileage '{miles}'\"\n",
        "                    )\n",
        "\n",
        "            print(\"All mileage values are valid!\")\n",
        "\n",
        "    except FileNotFoundError:\n",
        "        raise ValidationException(f\"File '{filename}' not found.\")\n",
        "\n",
        "\n",
        "def ex1():\n",
        "    try:\n",
        "        validate_file(\"input.txt\")\n",
        "    except ValidationException as ve:\n",
        "        print(ve)\n",
        "\n",
        "\n",
        "# Run example\n",
        "ex1()\n"
      ]
    },
    {
      "cell_type": "code",
      "source": [
        "import csv\n",
        "\n",
        "def find_total_visits():\n",
        "    total_visits = 0\n",
        "    filenames = [\"week-1.csv\", \"week-2.csv\", \"week-3.csv\"]\n",
        "\n",
        "    for filename in filenames:\n",
        "        try:\n",
        "            with open(filename, \"r\") as file:\n",
        "                reader = csv.reader(file)\n",
        "                next(reader)  # Skip header line\n",
        "\n",
        "                for row in reader:\n",
        "                    # row = [Name, S, M, T, W, Th, F, S]\n",
        "                    visits = row[1:]  # skip the name\n",
        "                    # Convert each day to int and sum\n",
        "                    total_visits += sum(int(x) for x in visits)\n",
        "\n",
        "        except FileNotFoundError:\n",
        "            print(f\"Warning: {filename} not found. Skipping this file.\")\n",
        "\n",
        "    return total_visits\n",
        "\n",
        "\n",
        "def ex2():\n",
        "    total = find_total_visits()\n",
        "    print(f\"Total visits: {total}.\")\n",
        "\n",
        "\n",
        "# Run the function\n",
        "ex2()\n"
      ],
      "metadata": {
        "colab": {
          "base_uri": "https://localhost:8080/"
        },
        "id": "H4pg9Xmq-vIH",
        "outputId": "c77fd16b-f7ae-4a76-cea5-5ac64070d3bb"
      },
      "execution_count": 3,
      "outputs": [
        {
          "output_type": "stream",
          "name": "stdout",
          "text": [
            "Total visits: 21.\n"
          ]
        }
      ]
    },
    {
      "cell_type": "code",
      "source": [
        "def count_words(filename):\n",
        "    try:\n",
        "        with open(filename, \"r\") as file:\n",
        "            text = file.read()\n",
        "\n",
        "        # Split by whitespace\n",
        "        words = text.split()\n",
        "\n",
        "        # Find unique words\n",
        "        unique_words = set(words)\n",
        "\n",
        "        # Separate small and large words\n",
        "        small_words = sorted([w for w in unique_words if len(w) < 3])\n",
        "        large_words = sorted([w for w in unique_words if len(w) >= 3])\n",
        "\n",
        "        # Write to files\n",
        "        with open(\"small-words.txt\", \"w\") as sfile:\n",
        "            for word in small_words:\n",
        "                sfile.write(word + \"\\n\")\n",
        "\n",
        "        with open(\"large-words.txt\", \"w\") as lfile:\n",
        "            for word in large_words:\n",
        "                lfile.write(word + \"\\n\")\n",
        "\n",
        "        # Return total number of unique words\n",
        "        return len(unique_words)\n",
        "\n",
        "    except FileNotFoundError:\n",
        "        print(f\"File '{filename}' not found.\")\n",
        "        return 0\n",
        "\n",
        "\n",
        "def ex3():\n",
        "    total_words = count_words(\"words.txt\")\n",
        "    print(f\"Total words: {total_words}.\")\n",
        "\n",
        "\n",
        "# Run the example\n",
        "ex3()\n"
      ],
      "metadata": {
        "colab": {
          "base_uri": "https://localhost:8080/"
        },
        "id": "eJKKoTxS_In-",
        "outputId": "a4e0a5a3-4b0f-42d0-eb0d-c22b3df41ca3"
      },
      "execution_count": 5,
      "outputs": [
        {
          "output_type": "stream",
          "name": "stdout",
          "text": [
            "Total words: 16.\n"
          ]
        }
      ]
    },
    {
      "cell_type": "code",
      "source": [
        "!pip install boto3\n"
      ],
      "metadata": {
        "colab": {
          "base_uri": "https://localhost:8080/"
        },
        "id": "HKFCBLQhAhvj",
        "outputId": "31a8fe5c-c7f4-4699-ad84-0e3f042be7b0"
      },
      "execution_count": 6,
      "outputs": [
        {
          "output_type": "stream",
          "name": "stdout",
          "text": [
            "Collecting boto3\n",
            "  Downloading boto3-1.40.53-py3-none-any.whl.metadata (6.6 kB)\n",
            "Collecting botocore<1.41.0,>=1.40.53 (from boto3)\n",
            "  Downloading botocore-1.40.53-py3-none-any.whl.metadata (5.7 kB)\n",
            "Collecting jmespath<2.0.0,>=0.7.1 (from boto3)\n",
            "  Downloading jmespath-1.0.1-py3-none-any.whl.metadata (7.6 kB)\n",
            "Collecting s3transfer<0.15.0,>=0.14.0 (from boto3)\n",
            "  Downloading s3transfer-0.14.0-py3-none-any.whl.metadata (1.7 kB)\n",
            "Requirement already satisfied: python-dateutil<3.0.0,>=2.1 in /usr/local/lib/python3.12/dist-packages (from botocore<1.41.0,>=1.40.53->boto3) (2.9.0.post0)\n",
            "Requirement already satisfied: urllib3!=2.2.0,<3,>=1.25.4 in /usr/local/lib/python3.12/dist-packages (from botocore<1.41.0,>=1.40.53->boto3) (2.5.0)\n",
            "Requirement already satisfied: six>=1.5 in /usr/local/lib/python3.12/dist-packages (from python-dateutil<3.0.0,>=2.1->botocore<1.41.0,>=1.40.53->boto3) (1.17.0)\n",
            "Downloading boto3-1.40.53-py3-none-any.whl (139 kB)\n",
            "\u001b[2K   \u001b[90m━━━━━━━━━━━━━━━━━━━━━━━━━━━━━━━━━━━━━━━━\u001b[0m \u001b[32m139.3/139.3 kB\u001b[0m \u001b[31m10.1 MB/s\u001b[0m eta \u001b[36m0:00:00\u001b[0m\n",
            "\u001b[?25hDownloading botocore-1.40.53-py3-none-any.whl (14.1 MB)\n",
            "\u001b[2K   \u001b[90m━━━━━━━━━━━━━━━━━━━━━━━━━━━━━━━━━━━━━━━━\u001b[0m \u001b[32m14.1/14.1 MB\u001b[0m \u001b[31m93.4 MB/s\u001b[0m eta \u001b[36m0:00:00\u001b[0m\n",
            "\u001b[?25hDownloading jmespath-1.0.1-py3-none-any.whl (20 kB)\n",
            "Downloading s3transfer-0.14.0-py3-none-any.whl (85 kB)\n",
            "\u001b[2K   \u001b[90m━━━━━━━━━━━━━━━━━━━━━━━━━━━━━━━━━━━━━━━━\u001b[0m \u001b[32m85.7/85.7 kB\u001b[0m \u001b[31m6.6 MB/s\u001b[0m eta \u001b[36m0:00:00\u001b[0m\n",
            "\u001b[?25hInstalling collected packages: jmespath, botocore, s3transfer, boto3\n",
            "Successfully installed boto3-1.40.53 botocore-1.40.53 jmespath-1.0.1 s3transfer-0.14.0\n"
          ]
        }
      ]
    },
    {
      "cell_type": "code",
      "source": [
        "import boto3\n",
        "\n",
        "def calculate():\n",
        "    logs = []\n",
        "    student_id = \"123456\"  # 🔹 Replace this with your actual student ID\n",
        "    filename = f\"calculator-log-{student_id}.txt\"\n",
        "\n",
        "    while True:\n",
        "        first = input(\"Enter first number: \")\n",
        "\n",
        "        # Check if user wants to quit\n",
        "        if first.lower() == 'q':\n",
        "            break\n",
        "\n",
        "        second = input(\"Enter second number: \")\n",
        "\n",
        "        # Validate numbers\n",
        "        try:\n",
        "            num1 = float(first)\n",
        "            num2 = float(second)\n",
        "            result = num1 + num2\n",
        "            print(f\"{num1} + {num2} = {result}\")\n",
        "            logs.append(f\"{num1} + {num2} = {result}\")\n",
        "        except ValueError:\n",
        "            print(\"Invalid input. Please enter valid numbers.\")\n",
        "\n",
        "    # Write all logs to a file\n",
        "    with open(filename, \"w\") as file:\n",
        "        for entry in logs:\n",
        "            file.write(entry + \"\\n\")\n",
        "\n",
        "    # Upload file to S3\n",
        "    try:\n",
        "        s3 = boto3.client('s3')\n",
        "        bucket_name = \"your-s3-bucket-name\"  # 🔹 Replace this with your bucket name\n",
        "        s3.upload_file(filename, bucket_name, filename)\n",
        "        print(\"*** Uploaded to S3 ***\")\n",
        "    except Exception as e:\n",
        "        print(f\"Error uploading to S3: {e}\")\n",
        "\n",
        "\n",
        "def ex4():\n",
        "    calculate()\n",
        "\n",
        "\n",
        "# Run example\n",
        "ex4()\n"
      ],
      "metadata": {
        "colab": {
          "base_uri": "https://localhost:8080/"
        },
        "id": "QmwEHqNVCHGN",
        "outputId": "57981996-89cf-45ef-c627-9f8a4e07ad3e"
      },
      "execution_count": 7,
      "outputs": [
        {
          "output_type": "stream",
          "name": "stdout",
          "text": [
            "Enter first number: 2\n",
            "Enter second number: 3\n",
            "2.0 + 3.0 = 5.0\n",
            "Enter first number: 5\n",
            "Enter second number: 6\n",
            "5.0 + 6.0 = 11.0\n",
            "Enter first number: q\n",
            "Error uploading to S3: Unable to locate credentials\n"
          ]
        }
      ]
    },
    {
      "cell_type": "code",
      "source": [
        "from pprint import pprint\n",
        "\n",
        "def build_car_list():\n",
        "    car_models = {}  # to map CarId -> Model\n",
        "    car_list = []    # final list to return\n",
        "\n",
        "    # Read car-ids.txt file\n",
        "    with open(\"car-ids.txt\", \"r\") as f:\n",
        "        next(f)  # skip header\n",
        "        for line in f:\n",
        "            line = line.strip()\n",
        "            if not line:\n",
        "                continue\n",
        "            parts = [x.strip() for x in line.split(\",\")]\n",
        "            if len(parts) == 2:\n",
        "                car_id, model = parts\n",
        "                car_models[car_id] = model\n",
        "\n",
        "    # Read input.txt for mileage data\n",
        "    with open(\"input.txt\", \"r\") as f:\n",
        "        next(f)  # skip header\n",
        "        for line in f:\n",
        "            line = line.strip()\n",
        "            if not line:\n",
        "                continue\n",
        "            parts = [x.strip() for x in line.split(\",\")]\n",
        "            if len(parts) == 2:\n",
        "                car_id, miles = parts\n",
        "\n",
        "                # Check if mileage is an integer (valid)\n",
        "                if miles.isdigit():\n",
        "                    car_list.append({\n",
        "                        \"id\": int(car_id),\n",
        "                        \"miles\": int(miles),\n",
        "                        \"model\": car_models.get(car_id, \"Unknown\")\n",
        "                    })\n",
        "\n",
        "    return car_list\n",
        "\n",
        "\n",
        "def ex5():\n",
        "    car_list = build_car_list()\n",
        "    pprint(car_list)\n",
        "\n",
        "\n",
        "# Run example\n",
        "ex5()\n"
      ],
      "metadata": {
        "colab": {
          "base_uri": "https://localhost:8080/"
        },
        "id": "-Q43AlheC9yh",
        "outputId": "12a7b5ec-d7c4-4570-e8c9-f696bad6a80b"
      },
      "execution_count": 9,
      "outputs": [
        {
          "output_type": "stream",
          "name": "stdout",
          "text": [
            "[{'id': 1, 'miles': 10111, 'model': 'Ford'},\n",
            " {'id': 2, 'miles': 30333, 'model': 'Chevy'},\n",
            " {'id': 3, 'miles': 40443, 'model': 'Toyota'},\n",
            " {'id': 5, 'miles': 60000, 'model': 'Nissan'}]\n"
          ]
        }
      ]
    }
  ]
}