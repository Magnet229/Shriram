{
  "nbformat": 4,
  "nbformat_minor": 0,
  "metadata": {
    "colab": {
      "provenance": [],
      "authorship_tag": "ABX9TyN79z6YIECjoIrRTtQNZdCN",
      "include_colab_link": true
    },
    "kernelspec": {
      "name": "python3",
      "display_name": "Python 3"
    },
    "language_info": {
      "name": "python"
    }
  },
  "cells": [
    {
      "cell_type": "markdown",
      "metadata": {
        "id": "view-in-github",
        "colab_type": "text"
      },
      "source": [
        "<a href=\"https://colab.research.google.com/github/Magnet229/Shriram/blob/main/Shriram_Python_assignment1.ipynb\" target=\"_parent\"><img src=\"https://colab.research.google.com/assets/colab-badge.svg\" alt=\"Open In Colab\"/></a>"
      ]
    },
    {
      "cell_type": "markdown",
      "source": [
        "Chapter1 ex"
      ],
      "metadata": {
        "id": "Pwcx9oWxBGms"
      }
    },
    {
      "cell_type": "code",
      "execution_count": 1,
      "metadata": {
        "colab": {
          "base_uri": "https://localhost:8080/"
        },
        "id": "nSqcs4ysA3v4",
        "outputId": "e4fa3607-fdbb-4100-97a8-fe89dd9fa3b9"
      },
      "outputs": [
        {
          "output_type": "stream",
          "name": "stdout",
          "text": [
            "Hello,world\n"
          ]
        }
      ],
      "source": [
        "print(\"Hello,world\")"
      ]
    },
    {
      "cell_type": "code",
      "source": [
        "print(\"SPAM SPAM SPAM!\")"
      ],
      "metadata": {
        "colab": {
          "base_uri": "https://localhost:8080/"
        },
        "id": "X6brjXm0BfUd",
        "outputId": "e78b129f-a0ad-4dc8-fdde-36058417d3f6"
      },
      "execution_count": 2,
      "outputs": [
        {
          "output_type": "stream",
          "name": "stdout",
          "text": [
            "SPAM SPAM SPAM!\n"
          ]
        }
      ]
    },
    {
      "cell_type": "markdown",
      "source": [
        "CHAPTER 2 EXEC"
      ],
      "metadata": {
        "id": "Xp-4LvMpFxQg"
      }
    },
    {
      "cell_type": "code",
      "source": [
        "name=\"john jacob jingleheimer schmidt\"\n",
        "print(\"the original name is - john jacob jingleheimer schmidt\")\n",
        "print(name.upper())\n",
        "print(name.title())\n",
        "print(name.count('j'))\n",
        "print(len(name))\n",
        "print(name.find('jacob'))\n"
      ],
      "metadata": {
        "colab": {
          "base_uri": "https://localhost:8080/"
        },
        "id": "-gVDUzTJB65q",
        "outputId": "116422ad-8682-4f80-cb83-43010c1bce90"
      },
      "execution_count": 4,
      "outputs": [
        {
          "output_type": "stream",
          "name": "stdout",
          "text": [
            "the original name is - john jacob jingleheimer schmidt\n",
            "JOHN JACOB JINGLEHEIMER SCHMIDT\n",
            "John Jacob Jingleheimer Schmidt\n",
            "3\n",
            "31\n",
            "5\n"
          ]
        }
      ]
    },
    {
      "cell_type": "markdown",
      "source": [
        "chapter3 exec"
      ],
      "metadata": {
        "id": "hz1vwRphXT_A"
      }
    },
    {
      "cell_type": "code",
      "source": [
        "l=[100,0,37,-40]\n",
        "t = []\n",
        "for i in l:\n",
        "  farenhite=((9*i)/5) + 32\n",
        "  print(f\"The given temp {i} has the equivalent {farenhite}.\")\n",
        "  t.append(farenhite)\n",
        "print(\"-\"*60)\n",
        "for x in t:\n",
        "  temp=(x-32)*(5/9)\n",
        "  print(f\"The given temp {x} has the equivalent {temp}.\")"
      ],
      "metadata": {
        "colab": {
          "base_uri": "https://localhost:8080/"
        },
        "id": "Vj1KYyyAVVgo",
        "outputId": "0de42ba1-25f2-4183-e7ea-702e916864c6"
      },
      "execution_count": 6,
      "outputs": [
        {
          "output_type": "stream",
          "name": "stdout",
          "text": [
            "The given temp 100 has the equivalent 212.0.\n",
            "The given temp 0 has the equivalent 32.0.\n",
            "The given temp 37 has the equivalent 98.6.\n",
            "The given temp -40 has the equivalent -40.0.\n",
            "------------------------------------------------------------\n",
            "The given temp 212.0 has the equivalent 100.0.\n",
            "The given temp 32.0 has the equivalent 0.0.\n",
            "The given temp 98.6 has the equivalent 37.0.\n",
            "The given temp -40.0 has the equivalent -40.0.\n"
          ]
        }
      ]
    },
    {
      "cell_type": "markdown",
      "source": [
        "chapter 4 exec"
      ],
      "metadata": {
        "id": "MF2ZxcxEiUvs"
      }
    },
    {
      "cell_type": "code",
      "source": [
        "while True:\n",
        "    t = input(\"Enter the temperature (or 'q' to quit): \")\n",
        "    if t.lower() == 'q':\n",
        "        print(\"OK, goodbye!\")\n",
        "        break\n",
        "    try:\n",
        "        temp = float(t)\n",
        "        fahrenheit = (temp * 9/5) + 32\n",
        "        print(f\"{temp}°C is equal to {fahrenheit}°F\")\n",
        "    except ValueError:\n",
        "        print(\"Invalid input. Please enter a number or 'q'.\")"
      ],
      "metadata": {
        "colab": {
          "base_uri": "https://localhost:8080/"
        },
        "id": "425OMwFSaxDp",
        "outputId": "e1749342-d58c-47f9-f31f-7e8503f0b0de"
      },
      "execution_count": 8,
      "outputs": [
        {
          "output_type": "stream",
          "name": "stdout",
          "text": [
            "Enter the temperature (or 'q' to quit): 5\n",
            "5.0°C is equal to 41.0°F\n",
            "Enter the temperature (or 'q' to quit): q\n",
            "OK, goodbye!\n"
          ]
        }
      ]
    },
    {
      "cell_type": "code",
      "source": [
        "max = 26\n",
        "min =0\n",
        "while True:\n",
        "  guess=((max+min)//2)\n",
        "  print(guess)\n",
        "  ans=input(\"is this your guess\")\n",
        "  if ans == \"y\":\n",
        "    print(\"sooper\")\n",
        "    break\n",
        "  if ans == \"h\":\n",
        "    print(\"too high\")\n",
        "    max=guess\n",
        "  if ans == \"l\":\n",
        "    print(\"too low\")\n",
        "    min=guess\n"
      ],
      "metadata": {
        "colab": {
          "base_uri": "https://localhost:8080/"
        },
        "id": "gwxCA4_XiRds",
        "outputId": "7cee43f4-f4c2-4719-d1e7-f962626c5f84"
      },
      "execution_count": 10,
      "outputs": [
        {
          "output_type": "stream",
          "name": "stdout",
          "text": [
            "13\n",
            "is this your guessl\n",
            "too low\n",
            "19\n",
            "is this your guessl\n",
            "too low\n",
            "22\n",
            "is this your guessh\n",
            "too high\n",
            "20\n",
            "is this your guessy\n",
            "sooper\n"
          ]
        }
      ]
    },
    {
      "cell_type": "markdown",
      "source": [
        "chapter5 exec"
      ],
      "metadata": {
        "id": "pyk-zb6bkt1I"
      }
    },
    {
      "cell_type": "code",
      "source": [
        "for i in range(0,32):\n",
        "  print(f\"The power of 2^{i} is {2**i}\")"
      ],
      "metadata": {
        "colab": {
          "base_uri": "https://localhost:8080/"
        },
        "id": "wobyP4ABk9Lr",
        "outputId": "2874887b-9f07-4987-aa9d-5e545f5a741b"
      },
      "execution_count": 13,
      "outputs": [
        {
          "output_type": "stream",
          "name": "stdout",
          "text": [
            "The power of 2^0 is 1\n",
            "The power of 2^1 is 2\n",
            "The power of 2^2 is 4\n",
            "The power of 2^3 is 8\n",
            "The power of 2^4 is 16\n",
            "The power of 2^5 is 32\n",
            "The power of 2^6 is 64\n",
            "The power of 2^7 is 128\n",
            "The power of 2^8 is 256\n",
            "The power of 2^9 is 512\n",
            "The power of 2^10 is 1024\n",
            "The power of 2^11 is 2048\n",
            "The power of 2^12 is 4096\n",
            "The power of 2^13 is 8192\n",
            "The power of 2^14 is 16384\n",
            "The power of 2^15 is 32768\n",
            "The power of 2^16 is 65536\n",
            "The power of 2^17 is 131072\n",
            "The power of 2^18 is 262144\n",
            "The power of 2^19 is 524288\n",
            "The power of 2^20 is 1048576\n",
            "The power of 2^21 is 2097152\n",
            "The power of 2^22 is 4194304\n",
            "The power of 2^23 is 8388608\n",
            "The power of 2^24 is 16777216\n",
            "The power of 2^25 is 33554432\n",
            "The power of 2^26 is 67108864\n",
            "The power of 2^27 is 134217728\n",
            "The power of 2^28 is 268435456\n",
            "The power of 2^29 is 536870912\n",
            "The power of 2^30 is 1073741824\n",
            "The power of 2^31 is 2147483648\n"
          ]
        }
      ]
    },
    {
      "cell_type": "code",
      "source": [
        "l=[100,0,37,-40]\n",
        "t = []\n",
        "for i in l:\n",
        "  farenhite=((9*i)/5) + 32\n",
        "  print(f\"The given temp {i} has the equivalent {farenhite}.\")\n",
        "  t.append(farenhite)"
      ],
      "metadata": {
        "colab": {
          "base_uri": "https://localhost:8080/"
        },
        "id": "6A-cIsXms2Dt",
        "outputId": "8fc7de07-2224-4f8c-ebc1-d1dc0b0c7fb7"
      },
      "execution_count": 14,
      "outputs": [
        {
          "output_type": "stream",
          "name": "stdout",
          "text": [
            "The given temp 100 has the equivalent 212.0.\n",
            "The given temp 0 has the equivalent 32.0.\n",
            "The given temp 37 has the equivalent 98.6.\n",
            "The given temp -40 has the equivalent -40.0.\n"
          ]
        }
      ]
    },
    {
      "cell_type": "code",
      "source": [
        "fruits=['  apple','Banana    ','orAnge']\n",
        "clean_fruits=[f.lower().strip() for f in fruits]\n",
        "print(clean_fruits)"
      ],
      "metadata": {
        "colab": {
          "base_uri": "https://localhost:8080/"
        },
        "id": "JqEWaK3DwMZo",
        "outputId": "1f853199-2007-43e0-e299-852c515d21ed"
      },
      "execution_count": 15,
      "outputs": [
        {
          "output_type": "stream",
          "name": "stdout",
          "text": [
            "['apple', 'banana', 'orange']\n"
          ]
        }
      ]
    },
    {
      "cell_type": "code",
      "source": [
        "import math\n",
        "\n",
        "is_prime = []\n",
        "for n in range(2, 51):\n",
        "\n",
        "    is_n_prime = True\n",
        "\n",
        "    for i in range(2, int(math.sqrt(n)) + 1):\n",
        "        if n % i == 0:\n",
        "            is_n_prime = False\n",
        "            break\n",
        "    if is_n_prime:\n",
        "        is_prime.append(n)\n",
        "\n",
        "print(is_prime)"
      ],
      "metadata": {
        "colab": {
          "base_uri": "https://localhost:8080/"
        },
        "collapsed": true,
        "id": "QOwKHDPywwBs",
        "outputId": "e65af388-9859-477f-c3f6-9e19fa102aed"
      },
      "execution_count": 2,
      "outputs": [
        {
          "output_type": "stream",
          "name": "stdout",
          "text": [
            "[2, 3, 5, 7, 11, 13, 17, 19, 23, 29, 31, 37, 41, 43, 47]\n"
          ]
        }
      ]
    },
    {
      "cell_type": "markdown",
      "source": [
        "chapter6 exec"
      ],
      "metadata": {
        "id": "Bd8ven7ISTbE"
      }
    },
    {
      "cell_type": "code",
      "source": [
        "file_path=\"/content/test.txt\"\n",
        "with open(file_path,'r') as fp :\n",
        "  fr = fp.read().splitlines()\n",
        "\n",
        "  for i in enumerate(fr,1):\n",
        "    print(i)\n"
      ],
      "metadata": {
        "colab": {
          "base_uri": "https://localhost:8080/"
        },
        "id": "edmyetBqSS0o",
        "outputId": "af74e47d-0707-4115-8525-7ec804cc4dca"
      },
      "execution_count": 7,
      "outputs": [
        {
          "output_type": "stream",
          "name": "stdout",
          "text": [
            "(1, ' shriram')\n",
            "(2, ' sriraj')\n",
            "(3, ' vishnu')\n",
            "(4, ' bollu')\n",
            "(5, 'chinnu')\n"
          ]
        }
      ]
    },
    {
      "cell_type": "code",
      "source": [
        "file_path=\"/content/test.txt\"\n",
        "with open(file_path,'r') as fp :\n",
        "  fr = fp.read().splitlines()\n",
        "\n",
        "with open('a.txt','w') as f1:\n",
        "  for i in fr:\n",
        "    if i.strip().startswith('s'):\n",
        "      f1.write(i.strip() + '\\n')\n",
        "\n",
        "with open('b.txt','w') as f2 :\n",
        "  for i in fr:\n",
        "    if i.strip().startswith('b'):\n",
        "      f2.write(i.strip() + '\\n')"
      ],
      "metadata": {
        "id": "paO3RH1FUe6w"
      },
      "execution_count": 11,
      "outputs": []
    },
    {
      "cell_type": "code",
      "source": [
        "with open('alice.txt','w') as ar :\n",
        "  for i in range(392):\n",
        "    ar.write(\"Alice\\n\")"
      ],
      "metadata": {
        "id": "5hte2X9vXlWs"
      },
      "execution_count": 17,
      "outputs": []
    },
    {
      "cell_type": "code",
      "metadata": {
        "colab": {
          "base_uri": "https://localhost:8080/"
        },
        "id": "f0cc62ba",
        "outputId": "2a4ab0b1-c609-4683-8820-58f7e4aee79c"
      },
      "source": [
        "file_path = 'alice.txt'\n",
        "with open(file_path, 'r') as file:\n",
        "    content = file.read()\n",
        "    alice_count = content.count('Alice')\n",
        "    print(f\"The word 'Alice' appears {alice_count} times in {file_path}.\")"
      ],
      "execution_count": 18,
      "outputs": [
        {
          "output_type": "stream",
          "name": "stdout",
          "text": [
            "The word 'Alice' appears 392 times in alice.txt.\n"
          ]
        }
      ]
    },
    {
      "cell_type": "code",
      "source": [
        "n=int(input(\"enter the no.of files need to be searched:\"))\n",
        "for i in range(n):\n",
        "  file_path = input(\"Enter the file path: \")\n",
        "  enter_word = input(\"Enter the word to search for: \")\n",
        "  with open(file_path,'r') as frc :\n",
        "    s=frc.read()\n",
        "    enter_word=enter_word.lower()\n",
        "    print(s.lower().count(enter_word))"
      ],
      "metadata": {
        "colab": {
          "base_uri": "https://localhost:8080/"
        },
        "id": "PtxHp6wJdI3g",
        "outputId": "67e91932-f35b-42d0-d13a-4ed4d0088fb2"
      },
      "execution_count": 26,
      "outputs": [
        {
          "output_type": "stream",
          "name": "stdout",
          "text": [
            "enter the no.of files need to be searched:1\n",
            "Enter the file path: /content/test.txt\n",
            "Enter the word to search for: ChiNNU\n",
            "1\n"
          ]
        }
      ]
    },
    {
      "cell_type": "markdown",
      "source": [
        "chapter 7 exec"
      ],
      "metadata": {
        "id": "clPkkdOUwypb"
      }
    },
    {
      "cell_type": "markdown",
      "source": [
        "pgm to get the last modification date"
      ],
      "metadata": {
        "id": "MqVcpBR-zom9"
      }
    },
    {
      "cell_type": "code",
      "source": [
        "import os\n",
        "from datetime import datetime\n",
        "\n",
        "def format_time(time_stamp):\n",
        "  return datetime.fromtimestamp(time_stamp).strftime('%m-%d-%Y ')\n",
        "file_path = input(\"Enter the file path:\")\n",
        "mtime_S=os.path.getmtime(file_path)\n",
        "time=format_time(mtime_S)\n",
        "print(time)"
      ],
      "metadata": {
        "colab": {
          "base_uri": "https://localhost:8080/"
        },
        "id": "uRP1p5K7w5bO",
        "outputId": "969450b6-9b46-426d-b0b1-628ac3e9509e"
      },
      "execution_count": 4,
      "outputs": [
        {
          "output_type": "stream",
          "name": "stdout",
          "text": [
            "Enter the file path:/content/sample_data/mnist_test.csv\n",
            "10-23-2025 \n"
          ]
        }
      ]
    },
    {
      "cell_type": "markdown",
      "source": [
        "pgm to get the file size"
      ],
      "metadata": {
        "id": "Fz9M6mx7zxH9"
      }
    },
    {
      "cell_type": "code",
      "source": [
        "import os\n",
        "while True:\n",
        "  file_path=input(\"enter the path here : \")\n",
        "  if file_path.lower() == 'q':\n",
        "    break\n",
        "  if file_path:\n",
        "    file_size=os.path.getsize(file_path)\n",
        "    print(f\"the size of th efile {file_path} is {file_size} bytes \")\n",
        ""
      ],
      "metadata": {
        "colab": {
          "base_uri": "https://localhost:8080/"
        },
        "id": "KoSaKpTnzm-N",
        "outputId": "ee4443a2-0940-450c-e63f-be1ebd85bf0a"
      },
      "execution_count": 10,
      "outputs": [
        {
          "name": "stdout",
          "output_type": "stream",
          "text": [
            "enter the path here : /content/sample_data/mnist_test.csv\n",
            "the size of th efile /content/sample_data/mnist_test.csv is 18289443 bytes \n",
            "enter the path here : q\n"
          ]
        }
      ]
    },
    {
      "cell_type": "markdown",
      "source": [
        "pgm to count no.of times for is used"
      ],
      "metadata": {
        "id": "A2f1Ur9A4n4b"
      }
    },
    {
      "cell_type": "code",
      "source": [
        "import os\n",
        "\n",
        "base_dir = \"/content/sample_1_data\"\n",
        "total_for_count = 0\n",
        "\n",
        "for root, dirs, files in os.walk(base_dir):\n",
        "    for file in files:\n",
        "        if file.endswith(\".py\"):\n",
        "            file_path = os.path.join(root, file)\n",
        "            file_for_count = 0\n",
        "            try:\n",
        "                with open(file_path, 'r') as f:\n",
        "                    for line in f:\n",
        "                        line_strip = line.strip()\n",
        "                        if 'for' in line_strip:\n",
        "                            file_for_count += 1\n",
        "                            total_for_count += 1\n",
        "                print(f\"The file {file_path} has {file_for_count} 'for' statements.\")\n",
        "            except Exception as e:\n",
        "                print(f\"Error reading file {file_path}: {e}\")\n",
        "\n",
        "print(f\"The total number of 'for' statements in all Python files is {total_for_count}.\")"
      ],
      "metadata": {
        "colab": {
          "base_uri": "https://localhost:8080/"
        },
        "id": "fRUyoy484ngY",
        "outputId": "f49ae6e2-3e26-4de2-efea-4e8de0667627"
      },
      "execution_count": 14,
      "outputs": [
        {
          "output_type": "stream",
          "name": "stdout",
          "text": [
            "The file /content/sample_1_data/file1.py has 3 'for' statements.\n",
            "The total number of 'for' statements in all Python files is 3.\n"
          ]
        }
      ]
    },
    {
      "cell_type": "markdown",
      "source": [
        "pgm to copy files starts with p"
      ],
      "metadata": {
        "id": "y9BOauk8_-sp"
      }
    },
    {
      "cell_type": "code",
      "source": [
        "import os\n",
        "import shutil\n",
        "\n",
        "base_dir = \"/content/sample_1_data\"\n",
        "dst_dir = \"/content/temp\"\n",
        "os.makedirs(dst_dir, exist_ok=True)\n",
        "for root, dirs, files in os.walk(base_dir):\n",
        "  for file in files:\n",
        "    if file.lower().startswith('p'):\n",
        "      src_path = os.path.join(root, file)\n",
        "      dst_path = os.path.join(dst_dir, file)\n",
        "      shutil.copy(src_path, dst_path)\n",
        "      print(f\"copied {file=}\")"
      ],
      "metadata": {
        "colab": {
          "base_uri": "https://localhost:8080/"
        },
        "id": "Vu6ysf3I_8Tq",
        "outputId": "fa47b5db-da4b-40a6-d614-0ccb5bce4c90"
      },
      "execution_count": 17,
      "outputs": [
        {
          "output_type": "stream",
          "name": "stdout",
          "text": [
            "copied file='page1'\n"
          ]
        }
      ]
    },
    {
      "cell_type": "markdown",
      "source": [
        "chapter 8 exec"
      ],
      "metadata": {
        "id": "cYCr_OizHHR1"
      }
    },
    {
      "cell_type": "code",
      "source": [
        "dict1 = {}\n",
        "file_path = \"/content/testscores.dat\"\n",
        "try:\n",
        "    with open(file_path,'r') as ts :\n",
        "      for line in ts:\n",
        "\n",
        "        parts = line.rstrip().split(\":\")\n",
        "\n",
        "        if len(parts) == 3:\n",
        "            name, mark, grade = parts\n",
        "            dict1[name.strip()] = (mark.strip(), grade.strip())\n",
        "        else:\n",
        "            print(f\"Skipping line with incorrect format: {line.rstrip()}\")\n",
        "\n",
        "    print(\"Test Scores (Sorted by Name):\")\n",
        "\n",
        "    for name in sorted(dict1.keys()):\n",
        "        mark, grade = dict1[name]\n",
        "        print(f\"Name: {name}, Mark: {mark}, Grade: {grade}\")\n",
        "\n",
        "except FileNotFoundError:\n",
        "    print(f\"Error: File not found at {file_path}\")\n",
        "except Exception as e:\n",
        "    print(f\"An error occurred: {e}\")"
      ],
      "metadata": {
        "colab": {
          "base_uri": "https://localhost:8080/"
        },
        "id": "A5IL15JVHKum",
        "outputId": "4b738c4d-a696-4d66-a721-cff793bbc430"
      },
      "execution_count": 30,
      "outputs": [
        {
          "output_type": "stream",
          "name": "stdout",
          "text": [
            "Test Scores (Sorted by Name):\n",
            "Name: Bollu, Mark: 85, Grade: C\n",
            "Name: Chinnu, Mark: 96, Grade: A\n",
            "Name: Shriram, Mark: 83, Grade: C\n",
            "Name: Sriraj, Mark: 89, Grade: B\n",
            "Name: Vishnu, Mark: 91, Grade: B\n"
          ]
        }
      ]
    },
    {
      "cell_type": "code",
      "metadata": {
        "colab": {
          "base_uri": "https://localhost:8080/"
        },
        "id": "24c5a418",
        "outputId": "7edbeb87-47e0-4b45-9702-a2f554d4a7f8"
      },
      "source": [
        "total_marks = 0\n",
        "num_students = 0\n",
        "\n",
        "for name, data in dict1.items():\n",
        "  mark_str = data[0]\n",
        "  try:\n",
        "    mark = float(mark_str)\n",
        "    total_marks += mark\n",
        "    num_students += 1\n",
        "  except ValueError:\n",
        "    print(f\"Could not convert mark '{mark_str}' for {name} to a number. Skipping.\")\n",
        "\n",
        "if num_students > 0:\n",
        "  average_mark = total_marks / num_students\n",
        "  print(f\"\\nThe average mark of the students is: {average_mark:.2f}\")\n",
        "else:\n",
        "  print(\"\\nNo valid student marks found to calculate the average.\")"
      ],
      "execution_count": 31,
      "outputs": [
        {
          "output_type": "stream",
          "name": "stdout",
          "text": [
            "\n",
            "The average mark of the students is: 88.80\n"
          ]
        }
      ]
    },
    {
      "cell_type": "code",
      "source": [
        "def file_name (files):\n",
        "  with open(files,'r') as n:\n",
        "    return set(l.strip().lower() for l in n )\n",
        "f1=file_name('fruit1.txt')\n",
        "f2=file_name('fruit2.txt')\n",
        "print(\"fruits common in both \",f1&f2)"
      ],
      "metadata": {
        "colab": {
          "base_uri": "https://localhost:8080/"
        },
        "id": "h0PAM0uBhpz8",
        "outputId": "61c57a8a-b78c-4c0c-9efb-4a095f426331"
      },
      "execution_count": 35,
      "outputs": [
        {
          "output_type": "stream",
          "name": "stdout",
          "text": [
            "fruits common in both  {'grape', 'orange'}\n"
          ]
        }
      ]
    },
    {
      "cell_type": "markdown",
      "source": [
        "chapter 9 exec"
      ],
      "metadata": {
        "id": "jWqAAtIqt-c5"
      }
    },
    {
      "cell_type": "code",
      "source": [
        "d_strings=[\"  apple\",\"oRAnge    \",\"apriCOt    \"]\n",
        "op=[]\n",
        "def clean_fruits(d_strings):\n",
        "  for i in d_strings:\n",
        "    x=i.lower().strip()\n",
        "    op.append(x)\n",
        "  return op\n",
        "clean_fruits(d_strings)"
      ],
      "metadata": {
        "colab": {
          "base_uri": "https://localhost:8080/"
        },
        "id": "YN1vWkcRuAtZ",
        "outputId": "81f1d946-a436-43d7-b69b-1361babc207a"
      },
      "execution_count": 40,
      "outputs": [
        {
          "output_type": "execute_result",
          "data": {
            "text/plain": [
              "['apple', 'orange', 'apricot']"
            ]
          },
          "metadata": {},
          "execution_count": 40
        }
      ]
    },
    {
      "cell_type": "code",
      "source": [
        "def c2f(n):\n",
        "  return ((9*n)/5) + 32\n",
        "f=c2f(100)\n",
        "print(f)"
      ],
      "metadata": {
        "colab": {
          "base_uri": "https://localhost:8080/"
        },
        "id": "yeCoMdcgt-Hb",
        "outputId": "27f8c1c9-ff9b-4679-e1a8-f681f2d98e23"
      },
      "execution_count": 41,
      "outputs": [
        {
          "output_type": "stream",
          "name": "stdout",
          "text": [
            "212.0\n"
          ]
        }
      ]
    },
    {
      "cell_type": "code",
      "source": [
        "def add(a,b):\n",
        "  return a+b\n",
        "def sub(a,b):\n",
        "  return a-b\n",
        "def mul(a,b):\n",
        "  return a*b\n",
        "def div(a,b):\n",
        "  if b == 0:\n",
        "    return \"invalid number for division\"\n",
        "  else :\n",
        "    return a/b\n",
        "\n",
        "while True:\n",
        "  a_input = input(\"Enter the first number (or 'q' to quit): \")\n",
        "  if a_input.lower() == 'q':\n",
        "    print(\"Exiting calculator.\")\n",
        "    break\n",
        "  try:\n",
        "    a = float(a_input)\n",
        "\n",
        "    s = input(\"Enter the operator (+, -, *, /): \")\n",
        "    if s.lower() == 'q':\n",
        "      print(\"Exiting calculator.\")\n",
        "      break\n",
        "\n",
        "    b_input = input(\"Enter the second number: \")\n",
        "    if b_input.lower() == 'q':\n",
        "      print(\"Exiting calculator.\")\n",
        "      break\n",
        "    try:\n",
        "      b = float(b_input)\n",
        "\n",
        "      if s == '+':\n",
        "        print(\"ans  = \",add(a,b))\n",
        "      elif s == '-':\n",
        "        print(\"ans  = \",sub(a,b))\n",
        "      elif s == '*':\n",
        "        print(\"ans  = \",mul(a,b))\n",
        "      elif s == '/':\n",
        "        result = div(a,b)\n",
        "        print(\"ans  = \",result)\n",
        "      else:\n",
        "        print(\"invalid operator\")\n",
        "    except ValueError:\n",
        "      print(\"Invalid input for the second number.\")\n",
        "  except ValueError:\n",
        "    print(\"Invalid input for the first number.\")"
      ],
      "metadata": {
        "colab": {
          "base_uri": "https://localhost:8080/"
        },
        "id": "zbu3grHI1g98",
        "outputId": "59a4eb7b-828a-4fe4-c49b-8f82a6db8dc0"
      },
      "execution_count": 45,
      "outputs": [
        {
          "output_type": "stream",
          "name": "stdout",
          "text": [
            "Enter the first number (or 'q' to quit): 5\n",
            "Enter the operator (+, -, *, /): -\n",
            "Enter the second number: 5\n",
            "ans  =  0.0\n",
            "Enter the first number (or 'q' to quit): q\n",
            "Exiting calculator.\n"
          ]
        }
      ]
    }
  ]
}